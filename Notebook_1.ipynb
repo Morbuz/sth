{
 "cells": [
  {
   "cell_type": "markdown",
   "metadata": {},
   "source": [
    "# SAT Solvers"
   ]
  },
  {
   "cell_type": "markdown",
   "metadata": {},
   "source": [
    "## (x1 OR x2 OR x3) and (x1 OR x2 OR NOT x3)"
   ]
  },
  {
   "cell_type": "code",
   "execution_count": 23,
   "metadata": {},
   "outputs": [
    {
     "name": "stdout",
     "output_type": "stream",
     "text": [
      "[None, True, False, False]\n"
     ]
    }
   ],
   "source": [
    "solver = SAT()\n",
    "solver.add_clause((1,2, 3))\n",
    "solver.add_clause((1,2,-3))\n",
    "print(solver())"
   ]
  },
  {
   "cell_type": "markdown",
   "metadata": {},
   "source": [
    "## DIMACS format"
   ]
  },
  {
   "cell_type": "code",
   "execution_count": 24,
   "metadata": {},
   "outputs": [
    {
     "name": "stdout",
     "output_type": "stream",
     "text": [
      "p cnf 3 2\n",
      "1 2 3 0\n",
      "1 2 -3 0\n",
      "\n"
     ]
    }
   ],
   "source": [
    "from sage.sat.solvers.dimacs import DIMACS\n",
    "fn = tmp_filename()\n",
    "solver = DIMACS(filename=fn)\n",
    "solver.add_clause( ( 1,  2,  3) )\n",
    "solver.add_clause( ( 1,  2, -3) )\n",
    "_ = solver.write()\n",
    "print(open(fn).read())"
   ]
  },
  {
   "cell_type": "markdown",
   "metadata": {},
   "source": [
    "## Converter: ANF -> CNF using sparse strat"
   ]
  },
  {
   "cell_type": "code",
   "execution_count": 25,
   "metadata": {},
   "outputs": [
    {
     "name": "stdout",
     "output_type": "stream",
     "text": [
      "p cnf 3 2\n",
      "1 0\n",
      "-2 0\n",
      "\n"
     ]
    }
   ],
   "source": [
    "B.<a,b,c> = BooleanPolynomialRing()\n",
    "from sage.sat.converters.polybori import CNFEncoder\n",
    "from sage.sat.solvers.dimacs import DIMACS\n",
    "fn = tmp_filename()\n",
    "solver = DIMACS(filename=fn)\n",
    "e = CNFEncoder(solver, B)\n",
    "e.clauses_sparse(a*b + a + 1)\n",
    "_ = solver.write()\n",
    "print(open(fn).read())"
   ]
  },
  {
   "cell_type": "markdown",
   "metadata": {},
   "source": [
    "## Converter: ANF -> CNF using dense strat"
   ]
  },
  {
   "cell_type": "code",
   "execution_count": 26,
   "metadata": {},
   "outputs": [
    {
     "name": "stdout",
     "output_type": "stream",
     "text": [
      "p cnf 4 5\n",
      "1 -4 0\n",
      "2 -4 0\n",
      "4 -1 -2 0\n",
      "-4 -1 0\n",
      "4 1 0\n",
      "\n"
     ]
    }
   ],
   "source": [
    "B.<a,b,c> = BooleanPolynomialRing()\n",
    "from sage.sat.converters.polybori import CNFEncoder\n",
    "from sage.sat.solvers.dimacs import DIMACS\n",
    "fn = tmp_filename()\n",
    "solver = DIMACS(filename=fn)\n",
    "e = CNFEncoder(solver, B)\n",
    "e.clauses_dense(a*b + a + 1)\n",
    "_ = solver.write()\n",
    "print(open(fn).read())"
   ]
  },
  {
   "cell_type": "markdown",
   "metadata": {},
   "source": [
    "## TODO: CryptoMiniSat"
   ]
  },
  {
   "cell_type": "code",
   "execution_count": null,
   "metadata": {},
   "outputs": [],
   "source": []
  },
  {
   "cell_type": "markdown",
   "metadata": {},
   "source": [
    "# SBOXes"
   ]
  },
  {
   "cell_type": "markdown",
   "metadata": {},
   "source": [
    "## Basic usage"
   ]
  },
  {
   "cell_type": "code",
   "execution_count": 27,
   "metadata": {},
   "outputs": [
    {
     "name": "stdout",
     "output_type": "stream",
     "text": [
      "(12, 5, 6, 11, 9, 0, 10, 13, 3, 14, 15, 8, 4, 7, 1, 2)\n",
      "5\n",
      "[0, 1, 0, 1]\n",
      "(12, 5, 6, 11, 9, 0, 10, 13, 3, 14, 15, 8, 4, 7, 1, 2)\n",
      "5\n",
      "[1, 1, 0, 0]\n"
     ]
    }
   ],
   "source": [
    "from sage.crypto.sbox import SBox\n",
    "S = SBox(12,5,6,11,9,0,10,13,3,14,15,8,4,7,1,2);\n",
    "print(S)\n",
    "print(S(1))\n",
    "print(S([0,0,0,1]))\n",
    "S = SBox(12,5,6,11,9,0,10,13,3,14,15,8,4,7,1,2, big_endian=False);\n",
    "print(S)\n",
    "print(S(1))\n",
    "print(S([0,0,0,1]))\n"
   ]
  },
  {
   "cell_type": "markdown",
   "metadata": {},
   "source": [
    "## SBOX's CNF"
   ]
  },
  {
   "cell_type": "code",
   "execution_count": 30,
   "metadata": {},
   "outputs": [
    {
     "name": "stdout",
     "output_type": "stream",
     "text": [
      "[(1, 2, -3), (1, 2, -4), (1, -2, -3), (1, -2, 4), (-1, 2, 3), (-1, 2, -4), (-1, -2, 3), (-1, -2, 4)]\n"
     ]
    }
   ],
   "source": [
    "from sage.crypto.sbox import SBox\n",
    "S = SBox(2,0,1,3);\n",
    "cnf = S.cnf();\n",
    "print(cnf)"
   ]
  },
  {
   "cell_type": "code",
   "execution_count": null,
   "metadata": {},
   "outputs": [],
   "source": [
    "\n"
   ]
  },
  {
   "cell_type": "code",
   "execution_count": null,
   "metadata": {},
   "outputs": [],
   "source": []
  }
 ],
 "metadata": {
  "kernelspec": {
   "display_name": "SageMath 8.1",
   "language": "",
   "name": "sagemath"
  },
  "language_info": {
   "codemirror_mode": {
    "name": "ipython",
    "version": 2
   },
   "file_extension": ".py",
   "mimetype": "text/x-python",
   "name": "python",
   "nbconvert_exporter": "python",
   "pygments_lexer": "ipython2",
   "version": "2.7.15+"
  }
 },
 "nbformat": 4,
 "nbformat_minor": 2
}
